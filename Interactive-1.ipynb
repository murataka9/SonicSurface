{
 "cells": [
  {
   "cell_type": "code",
   "execution_count": null,
   "id": "7918a610-909e-4aac-91ea-6a9d8ac2cb05",
   "metadata": {},
   "outputs": [
    {
     "name": "stdout",
     "output_type": "stream",
     "text": [
      "Serial Ports:\n",
      "1: /dev/cu.debug-console\n",
      "2: /dev/cu.KamisBoseQC35\n",
      "3: /dev/cu.SR-MK1\n",
      "4: /dev/cu.Bluetooth-Incoming-Port\n",
      "5: /dev/cu.usbserial-A10L1409\n"
     ]
    }
   ],
   "source": [
    "from SonicSurface import SonicSurface\n",
    "import time\n",
    "\n",
    "dist = 0.20  # focal point\n",
    "l = 5  # topological charge\n",
    "\n",
    "array = SonicSurface()\n",
    "array.connect(-1)\n",
    "\n",
    "for _ in range(3):\n",
    "    array.vortexAt(0, dist, 0, l)\n",
    "    time.sleep(1)\n",
    "    array.vortexAt(0, dist, 0, -l)\n",
    "    time.sleep(1)\n",
    "\n",
    "\n",
    "array.switchOnOrOff(False)\n",
    "array.disconnect()"
   ]
  }
 ],
 "metadata": {
  "kernelspec": {
   "display_name": "sonicsurface",
   "language": "python",
   "name": "python3"
  },
  "language_info": {
   "codemirror_mode": {
    "name": "ipython",
    "version": 3
   },
   "file_extension": ".py",
   "mimetype": "text/x-python",
   "name": "python",
   "nbconvert_exporter": "python",
   "pygments_lexer": "ipython3",
   "version": "3.11.3"
  }
 },
 "nbformat": 4,
 "nbformat_minor": 2
}
